{
 "cells": [
  {
   "cell_type": "code",
   "execution_count": 2,
   "metadata": {},
   "outputs": [],
   "source": [
    "import numpy as np"
   ]
  },
  {
   "cell_type": "code",
   "execution_count": 3,
   "metadata": {},
   "outputs": [],
   "source": [
    "filenames = ['data/189_2011.txt', 'data/189_2012.txt', 'data/189_2013.txt', 'data/189_2014.txt',\n",
    "             'data/189_2015.txt', 'data/189_2016.txt', 'data/189_2017.txt', 'data/189_2018.txt',\n",
    "             'data/189_2019.txt', 'data/189_2020.txt', 'data/189_2021.txt']\n",
    "raw_data = []\n",
    "for f in filenames:\n",
    "    raw_data = np.concatenate((raw_data, np.loadtxt(f, delimiter=',', skiprows=1, dtype=str)))"
   ]
  },
  {
   "cell_type": "code",
   "execution_count": null,
   "metadata": {},
   "outputs": [],
   "source": [
    "data = np.genfromtxt((i[:-2] if i[-1] == '4' else '' for i in raw_data), skip_header=14, delimiter=';', \n",
    "                     dtype=[('date', 'U13'), ('height', 'float')])"
   ]
  },
  {
   "cell_type": "code",
   "execution_count": null,
   "metadata": {},
   "outputs": [],
   "source": [
    "data"
   ]
  },
  {
   "cell_type": "code",
   "execution_count": 4,
   "metadata": {},
   "outputs": [
    {
     "data": {
      "text/plain": [
       "array(['07/09/2011 08:57:20;3.64;1', '07/09/2011 08:58:20;4.19;1',\n",
       "       '07/09/2011 08:59:20;4.225;1', ..., '07/09/2021 12:45:30;4.3251;1',\n",
       "       '07/09/2021 12:46:30;4.3591;1', '07/09/2021 12:47:30;4.3694;1'],\n",
       "      dtype='<U32')"
      ]
     },
     "execution_count": 4,
     "metadata": {},
     "output_type": "execute_result"
    }
   ],
   "source": [
    "raw_data"
   ]
  }
 ],
 "metadata": {
  "kernelspec": {
   "display_name": "Python 3",
   "language": "python",
   "name": "python3"
  },
  "language_info": {
   "codemirror_mode": {
    "name": "ipython",
    "version": 3
   },
   "file_extension": ".py",
   "mimetype": "text/x-python",
   "name": "python",
   "nbconvert_exporter": "python",
   "pygments_lexer": "ipython3",
   "version": "3.8.5"
  }
 },
 "nbformat": 4,
 "nbformat_minor": 4
}
